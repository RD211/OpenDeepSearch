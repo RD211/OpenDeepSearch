{
 "cells": [
  {
   "cell_type": "code",
   "execution_count": 1,
   "id": "e14c26f7",
   "metadata": {},
   "outputs": [
    {
     "data": {
      "text/plain": [
       "True"
      ]
     },
     "execution_count": 1,
     "metadata": {},
     "output_type": "execute_result"
    }
   ],
   "source": [
    "from dotenv import load_dotenv\n",
    "load_dotenv()"
   ]
  },
  {
   "cell_type": "code",
   "execution_count": null,
   "id": "c6a353ac",
   "metadata": {},
   "outputs": [],
   "source": [
    "from opendeepsearch import OpenDeepSearchTool\n",
    "import os\n",
    "\n",
    "# accounts/fireworks/models/qwen2p5-72b-instruct\n",
    "# accounts/fireworks/models/qwq-32b\n",
    "# accounts/fireworks/models/deepseek-r1-distill-qwen-32b\n",
    "search_agent = OpenDeepSearchTool(\n",
    "    model_name=\"fireworks_ai/accounts/fireworks/models/qwen2p5-72b-instruct\",\n",
    "    reranker='local_jina'\n",
    ")\n",
    "if not search_agent.is_initialized:\n",
    "    search_agent.setup()\n",
    "    \n",
    "query = \"Fastest land animal?\"\n",
    "result = search_agent.forward(query)\n",
    "print(result)"
   ]
  },
  {
   "cell_type": "code",
   "execution_count": null,
   "id": "61c1e24b",
   "metadata": {},
   "outputs": [
    {
     "name": "stderr",
     "output_type": "stream",
     "text": [
      "2025-04-05 18:09:26.332118: I tensorflow/core/platform/cpu_feature_guard.cc:210] This TensorFlow binary is optimized to use available CPU instructions in performance-critical operations.\n",
      "To enable the following instructions: AVX2 FMA, in other operations, rebuild TensorFlow with the appropriate compiler flags.\n",
      "2025-04-05 18:09:27.448639: W tensorflow/compiler/tf2tensorrt/utils/py_utils.cc:38] TF-TRT Warning: Could not find TensorRT\n",
      "/home/rd211/anaconda3/lib/python3.11/site-packages/flash_attn/ops/triton/layer_norm.py:984: FutureWarning: `torch.cuda.amp.custom_fwd(args...)` is deprecated. Please use `torch.amp.custom_fwd(args..., device_type='cuda')` instead.\n",
      "  @custom_fwd\n",
      "/home/rd211/anaconda3/lib/python3.11/site-packages/flash_attn/ops/triton/layer_norm.py:1043: FutureWarning: `torch.cuda.amp.custom_bwd(args...)` is deprecated. Please use `torch.amp.custom_bwd(args..., device_type='cuda')` instead.\n",
      "  @custom_bwd\n"
     ]
    },
    {
     "ename": "TypeError",
     "evalue": "ToolCallingAgent.__init__() missing 1 required positional argument: 'tools'",
     "output_type": "error",
     "traceback": [
      "\u001b[0;31m---------------------------------------------------------------------------\u001b[0m",
      "\u001b[0;31mTypeError\u001b[0m                                 Traceback (most recent call last)",
      "Cell \u001b[0;32mIn[2], line 23\u001b[0m\n\u001b[1;32m     13\u001b[0m \u001b[38;5;66;03m# # Initialize the Wolfram Alpha tool\u001b[39;00m\n\u001b[1;32m     14\u001b[0m \u001b[38;5;66;03m# wolfram_tool = WolframAlphaTool(app_id=os.environ[\"WOLFRAM_ALPHA_APP_ID\"])\u001b[39;00m\n\u001b[1;32m     15\u001b[0m \n\u001b[1;32m     16\u001b[0m \u001b[38;5;66;03m# Initialize the React Agent with search and wolfram tools\u001b[39;00m\n\u001b[1;32m     17\u001b[0m react_agent \u001b[38;5;241m=\u001b[39m ToolCallingAgent(\n\u001b[1;32m     18\u001b[0m     tools\u001b[38;5;241m=\u001b[39m[search_agent],\n\u001b[1;32m     19\u001b[0m     model\u001b[38;5;241m=\u001b[39mmodel,\n\u001b[1;32m     20\u001b[0m     prompt_templates\u001b[38;5;241m=\u001b[39mREACT_PROMPT \u001b[38;5;66;03m# Using REACT_PROMPT as system prompt\u001b[39;00m\n\u001b[1;32m     21\u001b[0m )\n\u001b[0;32m---> 23\u001b[0m judge_agent \u001b[38;5;241m=\u001b[39m ToolCallingAgent(\n\u001b[1;32m     24\u001b[0m     \u001b[38;5;66;03m# tools=[search_agent],\u001b[39;00m\n\u001b[1;32m     25\u001b[0m     model\u001b[38;5;241m=\u001b[39mmodel,\n\u001b[1;32m     26\u001b[0m     prompt_templates\u001b[38;5;241m=\u001b[39mMAJORITY_VOTE_PROMPT\n\u001b[1;32m     27\u001b[0m )\n\u001b[1;32m     29\u001b[0m sc_agent \u001b[38;5;241m=\u001b[39m SelfConsistentAgent(\n\u001b[1;32m     30\u001b[0m     tool_agent\u001b[38;5;241m=\u001b[39mreact_agent,\n\u001b[1;32m     31\u001b[0m     judge_agent\u001b[38;5;241m=\u001b[39mjudge_agent,\n\u001b[1;32m     32\u001b[0m )\n",
      "\u001b[0;31mTypeError\u001b[0m: ToolCallingAgent.__init__() missing 1 required positional argument: 'tools'"
     ]
    }
   ],
   "source": [
    "from opendeepsearch import OpenDeepSearchTool\n",
    "# from opendeepsearch.wolfram_tool import WolframAlphaTool\n",
    "from opendeepsearch.prompts import REACT_PROMPT, MAJORITY_VOTE_PROMPT\n",
    "from smolagents import LiteLLMModel, ToolCallingAgent, Tool\n",
    "import os\n",
    "from opendeepsearch.sc_agent import SelfConsistentAgent\n",
    "model = LiteLLMModel(\n",
    "    \"fireworks_ai/accounts/fireworks/models/qwen2p5-72b-instruct\",  # Your Fireworks Deepseek model\n",
    "    temperature=0.7\n",
    ")\n",
    "search_agent = OpenDeepSearchTool(model_name=\"fireworks_ai/accounts/fireworks/models/qwen2p5-72b-instruct\", reranker=\"local_jina\") # Set reranker to \"jina\" or \"infinity\"\n",
    "\n",
    "# # Initialize the Wolfram Alpha tool\n",
    "# wolfram_tool = WolframAlphaTool(app_id=os.environ[\"WOLFRAM_ALPHA_APP_ID\"])\n",
    "\n",
    "# Initialize the React Agent with search and wolfram tools\n",
    "react_agent = ToolCallingAgent(\n",
    "    tools=[search_agent],\n",
    "    model=model,\n",
    "    prompt_templates=REACT_PROMPT # Using REACT_PROMPT as system prompt\n",
    ")\n",
    "\n",
    "judge_agent = ToolCallingAgent(\n",
    "    tools=[],\n",
    "    model=model,\n",
    "    prompt_templates=MAJORITY_VOTE_PROMPT\n",
    ")\n",
    "\n",
    "sc_agent = SelfConsistentAgent(\n",
    "    tool_agent=react_agent,\n",
    "    judge_agent=judge_agent,\n",
    ")\n",
    "\n",
    "# # Example query for the React Agent\n",
    "# query = \"What is the distance, in metres, between the Colosseum in Rome and the Rialto bridge in Venice\"\n",
    "# result = react_agent.run(query)\n",
    "\n",
    "# print(result)"
   ]
  },
  {
   "cell_type": "code",
   "execution_count": null,
   "id": "c9513785",
   "metadata": {},
   "outputs": [],
   "source": [
    "model2 = LiteLLMModel(\n",
    "    \"fireworks_ai/accounts/fireworks/models/qwen2p5-72b-instruct\",\n",
    "    temperature=0.7\n",
    ")"
   ]
  },
  {
   "cell_type": "code",
   "execution_count": null,
   "id": "13b014d8",
   "metadata": {},
   "outputs": [],
   "source": [
    "model2([{\"role\":\"user\", \"content\":\"Hi\"}])"
   ]
  },
  {
   "cell_type": "code",
   "execution_count": null,
   "id": "f4110046",
   "metadata": {},
   "outputs": [],
   "source": [
    "from datasets import load_dataset\n",
    "\n",
    "ds = load_dataset('google/frames-benchmark', split='test')"
   ]
  },
  {
   "cell_type": "code",
   "execution_count": null,
   "id": "e7b48d64",
   "metadata": {},
   "outputs": [],
   "source": [
    "ds = ds.train_test_split(test_size=0.1)"
   ]
  },
  {
   "cell_type": "code",
   "execution_count": null,
   "id": "e137082d",
   "metadata": {},
   "outputs": [],
   "source": [
    "ds = ds['test']"
   ]
  },
  {
   "cell_type": "code",
   "execution_count": null,
   "id": "108ec742",
   "metadata": {},
   "outputs": [],
   "source": [
    "ds = ds.map(lambda x: {\"our_answer\": react_agent.run(x['Prompt'])}, num_proc=4)"
   ]
  },
  {
   "cell_type": "code",
   "execution_count": null,
   "id": "c0e93ad0",
   "metadata": {},
   "outputs": [],
   "source": [
    "ds['Answer']"
   ]
  },
  {
   "cell_type": "code",
   "execution_count": null,
   "id": "156d0a9d",
   "metadata": {},
   "outputs": [],
   "source": [
    "ds['our_answer']"
   ]
  },
  {
   "cell_type": "code",
   "execution_count": null,
   "id": "a794bbf9",
   "metadata": {},
   "outputs": [],
   "source": [
    "from evals.autograde_df import autograde_df\n"
   ]
  },
  {
   "cell_type": "code",
   "execution_count": null,
   "id": "0637f974",
   "metadata": {},
   "outputs": [],
   "source": [
    "import pandas as pd\n",
    "\n",
    "df = pd.read_csv('results.csv')"
   ]
  },
  {
   "cell_type": "code",
   "execution_count": null,
   "id": "bc87ef1c",
   "metadata": {},
   "outputs": [],
   "source": [
    "df = df[['Prompt', 'Answer', 'our_answer']]\n",
    "\n",
    "# Rename to original_question, answer, true_answer\n",
    "df = df.rename(columns={\n",
    "    'Prompt': 'original_question',\n",
    "    'Answer': 'true_answer',\n",
    "    'our_answer': 'answer'\n",
    "})\n",
    "\n",
    "df.to_json('eval.json', orient='records', lines=True)"
   ]
  },
  {
   "cell_type": "code",
   "execution_count": null,
   "id": "9d18c4be",
   "metadata": {},
   "outputs": [],
   "source": [
    "autograde_df('eval.json')"
   ]
  },
  {
   "cell_type": "code",
   "execution_count": null,
   "id": "0929ca65",
   "metadata": {},
   "outputs": [],
   "source": [
    "graded_df = pd.read_json('eval.json', lines=True)\n",
    "# Compute percentage of A, B, C in grade\n",
    "def compute_percentage(graded_df, grade):\n",
    "    return (graded_df['final_grade'] == grade).sum() / len(graded_df) * 100\n",
    "A_percentage = compute_percentage(graded_df, 'A\\n')\n",
    "B_percentage = compute_percentage(graded_df, 'B\\n')\n",
    "C_percentage = compute_percentage(graded_df, 'C\\n')\n",
    "print(f\"A: {A_percentage}%\")\n",
    "print(f\"B: {B_percentage}%\")\n",
    "print(f\"C: {C_percentage}%\")"
   ]
  },
  {
   "cell_type": "code",
   "execution_count": null,
   "id": "2c2c4aad",
   "metadata": {},
   "outputs": [],
   "source": [
    "graded_df['answer'].iloc[3]"
   ]
  },
  {
   "cell_type": "code",
   "execution_count": null,
   "id": "469681da",
   "metadata": {},
   "outputs": [],
   "source": [
    "graded_df['true_answer'].iloc[3]"
   ]
  },
  {
   "cell_type": "code",
   "execution_count": null,
   "id": "6ac25f54",
   "metadata": {},
   "outputs": [],
   "source": [
    "graded_df['final_grade'].iloc[3]"
   ]
  },
  {
   "cell_type": "code",
   "execution_count": null,
   "id": "02009466",
   "metadata": {},
   "outputs": [],
   "source": []
  }
 ],
 "metadata": {
  "kernelspec": {
   "display_name": "base",
   "language": "python",
   "name": "python3"
  },
  "language_info": {
   "codemirror_mode": {
    "name": "ipython",
    "version": 3
   },
   "file_extension": ".py",
   "mimetype": "text/x-python",
   "name": "python",
   "nbconvert_exporter": "python",
   "pygments_lexer": "ipython3",
   "version": "3.11.5"
  }
 },
 "nbformat": 4,
 "nbformat_minor": 5
}
