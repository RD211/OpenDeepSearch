{
 "cells": [
  {
   "cell_type": "code",
   "execution_count": 1,
   "id": "e14c26f7",
   "metadata": {},
   "outputs": [
    {
     "data": {
      "text/plain": [
       "True"
      ]
     },
     "execution_count": 1,
     "metadata": {},
     "output_type": "execute_result"
    }
   ],
   "source": [
    "from dotenv import load_dotenv\n",
    "load_dotenv()"
   ]
  },
  {
   "cell_type": "code",
   "execution_count": null,
   "id": "d618e004",
   "metadata": {},
   "outputs": [],
   "source": [
    "from smolagents import LiteLLMModel, ToolCallingAgent, CodeAgent\n"
   ]
  },
  {
   "cell_type": "code",
   "execution_count": null,
   "id": "c6a353ac",
   "metadata": {},
   "outputs": [],
   "source": [
    "from opendeepsearch import OpenDeepSearchTool\n",
    "import os\n",
    "\n",
    "# accounts/fireworks/models/qwen2p5-72b-instruct\n",
    "# accounts/fireworks/models/qwq-32b\n",
    "# accounts/fireworks/models/deepseek-r1-distill-qwen-32b\n",
    "search_agent = OpenDeepSearchTool(\n",
    "    model_name=\"fireworks_ai/accounts/fireworks/models/qwen2p5-72b-instruct\",\n",
    "    reranker='local_jina'\n",
    ")\n",
    "if not search_agent.is_initialized:\n",
    "    search_agent.setup()\n",
    "    \n",
    "query = \"Fastest land animal?\"\n",
    "result = search_agent.forward(query)\n",
    "print(result)"
   ]
  },
  {
   "cell_type": "code",
   "execution_count": 3,
   "id": "61c1e24b",
   "metadata": {},
   "outputs": [
    {
     "name": "stderr",
     "output_type": "stream",
     "text": [
      "2025-04-05 20:27:20.998654: I tensorflow/core/platform/cpu_feature_guard.cc:210] This TensorFlow binary is optimized to use available CPU instructions in performance-critical operations.\n",
      "To enable the following instructions: AVX2 FMA, in other operations, rebuild TensorFlow with the appropriate compiler flags.\n",
      "2025-04-05 20:27:22.136729: W tensorflow/compiler/tf2tensorrt/utils/py_utils.cc:38] TF-TRT Warning: Could not find TensorRT\n",
      "/home/rd211/anaconda3/lib/python3.11/site-packages/flash_attn/ops/triton/layer_norm.py:984: FutureWarning: `torch.cuda.amp.custom_fwd(args...)` is deprecated. Please use `torch.amp.custom_fwd(args..., device_type='cuda')` instead.\n",
      "  @custom_fwd\n",
      "/home/rd211/anaconda3/lib/python3.11/site-packages/flash_attn/ops/triton/layer_norm.py:1043: FutureWarning: `torch.cuda.amp.custom_bwd(args...)` is deprecated. Please use `torch.amp.custom_bwd(args..., device_type='cuda')` instead.\n",
      "  @custom_bwd\n"
     ]
    }
   ],
   "source": [
    "from opendeepsearch import OpenDeepSearchTool\n",
    "# from opendeepsearch.wolfram_tool import WolframAlphaTool\n",
    "from opendeepsearch.prompts import REACT_PROMPT, MAJORITY_VOTE_PROMPT\n",
    "from smolagents import LiteLLMModel, ToolCallingAgent, Tool\n",
    "import os\n",
    "from opendeepsearch.sc_agent import SelfConsistentAgent\n",
    "model = LiteLLMModel(\n",
    "    \"fireworks_ai/accounts/fireworks/models/qwen2p5-72b-instruct\",  # Your Fireworks Deepseek model\n",
    "    temperature=0.7\n",
    ")\n",
    "search_agent = OpenDeepSearchTool(model_name=\"fireworks_ai/accounts/fireworks/models/qwen2p5-72b-instruct\", reranker=\"local_jina\") # Set reranker to \"jina\" or \"infinity\"\n",
    "\n",
    "# # Initialize the Wolfram Alpha tool\n",
    "# wolfram_tool = WolframAlphaTool(app_id=os.environ[\"WOLFRAM_ALPHA_APP_ID\"])\n",
    "\n",
    "# Initialize the React Agent with search and wolfram tools\n",
    "react_agent = ToolCallingAgent(\n",
    "    tools=[search_agent],\n",
    "    model=model,\n",
    "    prompt_templates=REACT_PROMPT # Using REACT_PROMPT as system prompt\n",
    ")\n",
    "\n",
    "judge_agent = ToolCallingAgent(\n",
    "    tools=[],\n",
    "    model=model,\n",
    "    prompt_templates=MAJORITY_VOTE_PROMPT\n",
    ")\n",
    "\n",
    "sc_agent = SelfConsistentAgent(\n",
    "    tool_agent=react_agent,\n",
    "    judge_agent=judge_agent,\n",
    ")\n",
    "\n",
    "# # Example query for the React Agent\n",
    "# query = \"What is the distance, in metres, between the Colosseum in Rome and the Rialto bridge in Venice\"\n",
    "# result = react_agent.run(query)\n",
    "\n",
    "# print(result)"
   ]
  },
  {
   "cell_type": "code",
   "execution_count": 10,
   "id": "0c3b95dd",
   "metadata": {},
   "outputs": [],
   "source": [
    "import time\n",
    "# threading\n",
    "from concurrent.futures import ThreadPoolExecutor\n",
    "def run_query(query):\n",
    "    # result = sc_agent.ask_sync(query['Prompt'], n_samples=4)\n",
    "    \n",
    "    \n",
    "    query['our_answer'] = ''\n",
    "    return query\n",
    "# with ThreadPoolExecutor(max_workers=4) as executor:\n",
    "#     queries = [\n",
    "#         \"What is the distance, in metres, between the Colosseum in Rome and the Rialto bridge in Venice\",\n",
    "#         \"What is the capital of France?\",\n",
    "#         \"How many continents are there on Earth?\",\n",
    "#         \"What is the largest mammal?\"\n",
    "#     ]\n",
    "#     results = list(executor.map(run_query, queries))\n",
    "# sc_agent.ask_sync(\"What is the distance, in metres, between the Colosseum in Rome and the Rialto bridge in Venice\", n_samples=4)"
   ]
  },
  {
   "cell_type": "code",
   "execution_count": 11,
   "id": "f4110046",
   "metadata": {},
   "outputs": [],
   "source": [
    "from datasets import load_dataset\n",
    "\n",
    "ds = load_dataset('google/frames-benchmark', split='test')"
   ]
  },
  {
   "cell_type": "code",
   "execution_count": 12,
   "id": "e7b48d64",
   "metadata": {},
   "outputs": [],
   "source": [
    "ds = ds.train_test_split(test_size=0.2)"
   ]
  },
  {
   "cell_type": "code",
   "execution_count": 13,
   "id": "e137082d",
   "metadata": {},
   "outputs": [],
   "source": [
    "ds = ds['test']"
   ]
  },
  {
   "cell_type": "code",
   "execution_count": null,
   "id": "a7f142c5",
   "metadata": {},
   "outputs": [],
   "source": []
  },
  {
   "cell_type": "code",
   "execution_count": 15,
   "id": "108ec742",
   "metadata": {},
   "outputs": [],
   "source": [
    "# ds = ds.map(lambda x: {\"our_answer\": sc_agent.ask_sync(x['Prompt'])}, num_proc=4)\n",
    "from datasets import Dataset\n",
    "import pandas as pd\n",
    "with ThreadPoolExecutor(max_workers=4) as executor:\n",
    "    # Process each element using threads\n",
    "    processed_results = list(executor.map(run_query, ds))\n",
    "\n",
    "# Convert the list of processed results back into a Dataset.\n",
    "# This assumes that each item in processed_results is a dictionary representing one record.\n",
    "ds = Dataset.from_pandas(pd.DataFrame(processed_results))\n"
   ]
  },
  {
   "cell_type": "code",
   "execution_count": 9,
   "id": "397b77e3",
   "metadata": {},
   "outputs": [
    {
     "data": {
      "text/plain": [
       "['',\n",
       " '',\n",
       " '',\n",
       " '',\n",
       " '',\n",
       " '',\n",
       " '',\n",
       " '',\n",
       " '',\n",
       " '',\n",
       " '',\n",
       " '',\n",
       " '',\n",
       " '',\n",
       " '',\n",
       " '',\n",
       " '',\n",
       " '',\n",
       " '',\n",
       " '',\n",
       " '',\n",
       " '',\n",
       " '',\n",
       " '',\n",
       " '',\n",
       " '',\n",
       " '',\n",
       " '',\n",
       " '',\n",
       " '',\n",
       " '',\n",
       " '',\n",
       " '',\n",
       " '',\n",
       " '',\n",
       " '',\n",
       " '',\n",
       " '',\n",
       " '',\n",
       " '',\n",
       " '',\n",
       " '',\n",
       " '',\n",
       " '',\n",
       " '',\n",
       " '',\n",
       " '',\n",
       " '',\n",
       " '',\n",
       " '',\n",
       " '',\n",
       " '',\n",
       " '',\n",
       " '',\n",
       " '',\n",
       " '',\n",
       " '',\n",
       " '',\n",
       " '',\n",
       " '',\n",
       " '',\n",
       " '',\n",
       " '',\n",
       " '',\n",
       " '',\n",
       " '',\n",
       " '',\n",
       " '',\n",
       " '',\n",
       " '',\n",
       " '',\n",
       " '',\n",
       " '',\n",
       " '',\n",
       " '',\n",
       " '',\n",
       " '',\n",
       " '',\n",
       " '',\n",
       " '',\n",
       " '',\n",
       " '',\n",
       " '',\n",
       " '',\n",
       " '',\n",
       " '',\n",
       " '',\n",
       " '',\n",
       " '',\n",
       " '',\n",
       " '',\n",
       " '',\n",
       " '',\n",
       " '',\n",
       " '',\n",
       " '',\n",
       " '',\n",
       " '',\n",
       " '',\n",
       " '',\n",
       " '',\n",
       " '',\n",
       " '',\n",
       " '',\n",
       " '',\n",
       " '',\n",
       " '',\n",
       " '',\n",
       " '',\n",
       " '',\n",
       " '',\n",
       " '',\n",
       " '',\n",
       " '',\n",
       " '',\n",
       " '',\n",
       " '',\n",
       " '',\n",
       " '',\n",
       " '',\n",
       " '',\n",
       " '',\n",
       " '',\n",
       " '',\n",
       " '',\n",
       " '',\n",
       " '',\n",
       " '',\n",
       " '',\n",
       " '',\n",
       " '',\n",
       " '',\n",
       " '',\n",
       " '',\n",
       " '',\n",
       " '',\n",
       " '',\n",
       " '',\n",
       " '',\n",
       " '',\n",
       " '',\n",
       " '',\n",
       " '',\n",
       " '',\n",
       " '',\n",
       " '',\n",
       " '',\n",
       " '',\n",
       " '',\n",
       " '',\n",
       " '',\n",
       " '',\n",
       " '',\n",
       " '',\n",
       " '',\n",
       " '',\n",
       " '',\n",
       " '',\n",
       " '',\n",
       " '',\n",
       " '',\n",
       " '',\n",
       " '',\n",
       " '',\n",
       " '']"
      ]
     },
     "execution_count": 9,
     "metadata": {},
     "output_type": "execute_result"
    }
   ],
   "source": [
    "processed_results"
   ]
  },
  {
   "cell_type": "code",
   "execution_count": null,
   "id": "a794bbf9",
   "metadata": {},
   "outputs": [],
   "source": [
    "from evals.autograde_df import autograde_df\n"
   ]
  },
  {
   "cell_type": "code",
   "execution_count": null,
   "id": "0637f974",
   "metadata": {},
   "outputs": [],
   "source": [
    "import pandas as pd\n",
    "\n",
    "df = pd.read_csv('results.csv')"
   ]
  },
  {
   "cell_type": "code",
   "execution_count": null,
   "id": "bc87ef1c",
   "metadata": {},
   "outputs": [],
   "source": [
    "df = df[['Prompt', 'Answer', 'our_answer']]\n",
    "\n",
    "# Rename to original_question, answer, true_answer\n",
    "df = df.rename(columns={\n",
    "    'Prompt': 'original_question',\n",
    "    'Answer': 'true_answer',\n",
    "    'our_answer': 'answer'\n",
    "})\n",
    "\n",
    "df.to_json('eval.json', orient='records', lines=True)"
   ]
  },
  {
   "cell_type": "code",
   "execution_count": 3,
   "id": "d28b9393",
   "metadata": {},
   "outputs": [],
   "source": [
    "import pandas as pd\n",
    "import os\n",
    "\n",
    "files = os.listdir('assets')\n",
    "# Remove non-json files\n",
    "files = [f for f in files if f.endswith('.json')]\n"
   ]
  },
  {
   "cell_type": "code",
   "execution_count": null,
   "id": "88aa3c7e",
   "metadata": {},
   "outputs": [
    {
     "data": {
      "text/plain": [
       "['400_500_qwq_seed_43.json',\n",
       " '0_100_qwq_seed_43.json',\n",
       " '800_824_qwq_seed_43.json',\n",
       " '500_600_qwq_seed_43.json',\n",
       " '300_400_qwq_seed_43.json',\n",
       " '750_800_qwq_seed_43.json',\n",
       " '600_700_qwq_seed_43.json',\n",
       " '700_750_qwq_seed_43.json',\n",
       " '100_200_qwq_seed_43.json',\n",
       " '200_300_qwq_seed_43.json']"
      ]
     },
     "execution_count": 4,
     "metadata": {},
     "output_type": "execute_result"
    }
   ],
   "source": [
    "# load json files\n",
    "loaded_dfs = []\n",
    "for file in files:\n",
    "    df = pd.read_json(f'assets/{file}', lines=True)\n",
    "    loaded_dfs.append(df)"
   ]
  },
  {
   "cell_type": "code",
   "execution_count": null,
   "id": "9d18c4be",
   "metadata": {},
   "outputs": [],
   "source": [
    "autograde_df('eval.json')"
   ]
  },
  {
   "cell_type": "code",
   "execution_count": null,
   "id": "0929ca65",
   "metadata": {},
   "outputs": [],
   "source": [
    "graded_df = pd.read_json('eval.json', lines=True)\n",
    "# Compute percentage of A, B, C in grade\n",
    "def compute_percentage(graded_df, grade):\n",
    "    return (graded_df['final_grade'] == grade).sum() / len(graded_df) * 100\n",
    "A_percentage = compute_percentage(graded_df, 'A\\n')\n",
    "B_percentage = compute_percentage(graded_df, 'B\\n')\n",
    "C_percentage = compute_percentage(graded_df, 'C\\n')\n",
    "print(f\"A: {A_percentage}%\")\n",
    "print(f\"B: {B_percentage}%\")\n",
    "print(f\"C: {C_percentage}%\")"
   ]
  },
  {
   "cell_type": "code",
   "execution_count": null,
   "id": "2c2c4aad",
   "metadata": {},
   "outputs": [],
   "source": [
    "graded_df['answer'].iloc[3]"
   ]
  },
  {
   "cell_type": "code",
   "execution_count": null,
   "id": "469681da",
   "metadata": {},
   "outputs": [],
   "source": [
    "graded_df['true_answer'].iloc[3]"
   ]
  },
  {
   "cell_type": "code",
   "execution_count": null,
   "id": "6ac25f54",
   "metadata": {},
   "outputs": [],
   "source": [
    "graded_df['final_grade'].iloc[3]"
   ]
  },
  {
   "cell_type": "code",
   "execution_count": null,
   "id": "02009466",
   "metadata": {},
   "outputs": [],
   "source": [
    "import fasttext\n",
    "from huggingface_hub import hf_hub_download\n",
    "import wikipediaapi\n",
    "\n",
    "# Load the model\n",
    "model = fasttext.load_model(hf_hub_download(\"kenhktsui/llm-data-textbook-quality-fasttext-classifer-v2\", \"model.bin\"))\n"
   ]
  }
 ],
 "metadata": {
  "kernelspec": {
   "display_name": "base",
   "language": "python",
   "name": "python3"
  },
  "language_info": {
   "codemirror_mode": {
    "name": "ipython",
    "version": 3
   },
   "file_extension": ".py",
   "mimetype": "text/x-python",
   "name": "python",
   "nbconvert_exporter": "python",
   "pygments_lexer": "ipython3",
   "version": "3.11.5"
  }
 },
 "nbformat": 4,
 "nbformat_minor": 5
}
